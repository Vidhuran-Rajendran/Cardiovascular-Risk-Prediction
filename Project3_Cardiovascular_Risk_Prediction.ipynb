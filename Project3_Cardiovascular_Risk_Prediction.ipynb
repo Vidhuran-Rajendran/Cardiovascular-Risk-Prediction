{
  "nbformat": 4,
  "nbformat_minor": 0,
  "metadata": {
    "colab": {
      "name": "Project3: Cardiovascular Risk Prediction.ipynb",
      "provenance": [],
      "authorship_tag": "ABX9TyNhJDar3ZNl3M/rvTuA+z7Y",
      "include_colab_link": true
    },
    "kernelspec": {
      "name": "python3",
      "display_name": "Python 3"
    },
    "language_info": {
      "name": "python"
    }
  },
  "cells": [
    {
      "cell_type": "markdown",
      "metadata": {
        "id": "view-in-github",
        "colab_type": "text"
      },
      "source": [
        "<a href=\"https://colab.research.google.com/github/Vidhuran-Rajendran/Cardiovascular-Risk-Prediction-Capsotne-3/blob/main/Project3_Cardiovascular_Risk_Prediction.ipynb\" target=\"_parent\"><img src=\"https://colab.research.google.com/assets/colab-badge.svg\" alt=\"Open In Colab\"/></a>"
      ]
    },
    {
      "cell_type": "markdown",
      "source": [
        "![download.jpg](data:image/jpeg;base64,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)\n",
        " # **Cardiovascular Risk Prediction**"
      ],
      "metadata": {
        "id": "IxdCStFDXHMl"
      }
    },
    {
      "cell_type": "markdown",
      "source": [
        "## <b> Problem Description </b>\n",
        "\n",
        "The dataset is from an ongoing cardiovascular study on residents of the town of Framingham,\n",
        "Massachusetts.\n",
        "\n",
        "The classification goal is to predict whether the patient has a 10-year risk of\n",
        "future coronary heart disease (CHD). \n",
        "\n",
        "The dataset provides the patients’ information. It includes\n",
        "over 4,000 records and 15 attributes.\n",
        "Variables\n",
        "Each attribute is a potential risk factor. There are both demographic, behavioral, and medical risk\n",
        "factors."
      ],
      "metadata": {
        "id": "v5-qA2sSXmxP"
      }
    },
    {
      "cell_type": "markdown",
      "source": [
        "## <b> Data Description </b>\n",
        "\n",
        "### **Demographic:**\n",
        "* Sex: male or female(\"M\" or \"F\")\n",
        "* Age: Age of the patient;(Continuous - Although the recorded ages have been truncated to whole numbers, the concept of age is continuous)\n",
        "\n",
        "### **Behavioral**\n",
        "* is_smoking: whether or not the patient is a current smoker (\"YES\" or \"NO\")\n",
        "* Cigs Per Day: the number of cigarettes that the person smoked on average in one day.(can be\n",
        "considered continuous as one can have any number of cigarettes, even half a cigarette.)\n",
        "\n",
        "### **Medical( history)**\n",
        "* BP Meds: whether or not the patient was on blood pressure medication (Nominal)\n",
        "* Prevalent Stroke: whether or not the patient had previously had a stroke (Nominal)\n",
        "* Prevalent Hyp: whether or not the patient was hypertensive (Nominal)\n",
        "* Diabetes: whether or not the patient had diabetes (Nominal)\n",
        "Medical(current)\n",
        "* Tot Chol: total cholesterol level (Continuous)\n",
        "* Sys BP: systolic blood pressure (Continuous)\n",
        "* Dia BP: diastolic blood pressure (Continuous)\n",
        "* BMI: Body Mass Index (Continuous)\n",
        "* Heart Rate: heart rate (Continuous - In medical research, variables such as heart rate though in\n",
        "fact discrete, yet are considered continuous because of large number of possible values.)\n",
        "* Glucose: glucose level (Continuous)\n",
        "Predict variable (desired target) \n",
        "\n",
        "**10-year risk of coronary heart disease CHD(binary: “1”, means “Yes”, “0” means “No”) -DV**"
      ],
      "metadata": {
        "id": "gPFsEPoQXvgc"
      }
    },
    {
      "cell_type": "markdown",
      "source": [
        "# Architecture\n",
        "Data Preparation and Exploratory Data Analysis > Build Predictive Model using Multiple Techniques/Algorithms > Optimal Model identified through Testing and Evaluation"
      ],
      "metadata": {
        "id": "v8SwBicHX_pd"
      }
    },
    {
      "cell_type": "markdown",
      "source": [
        "# Importing"
      ],
      "metadata": {
        "id": "AI0GmWnnYHTv"
      }
    },
    {
      "cell_type": "code",
      "execution_count": 1,
      "metadata": {
        "id": "ShNkHrZpXAqS"
      },
      "outputs": [],
      "source": [
        "# importing required packages\n",
        "import numpy as np \n",
        "import pandas as pd \n",
        "import matplotlib.pyplot as plt\n",
        "import seaborn as sns\n",
        "import matplotlib.ticker as ticker\n",
        "import warnings\n",
        "warnings.filterwarnings('ignore')\n",
        "from sklearn.metrics import plot_confusion_matrix, plot_precision_recall_curve, plot_roc_curve\n",
        "from sklearn.naive_bayes import GaussianNB\n",
        "from sklearn.model_selection import GridSearchCV\n",
        "from sklearn.linear_model import LogisticRegression\n",
        "from sklearn.tree import DecisionTreeClassifier\n",
        "from sklearn.ensemble import RandomForestClassifier\n",
        "from sklearn.ensemble import GradientBoostingClassifier\n",
        "import xgboost as xgb\n",
        "from sklearn import tree\n",
        "from sklearn.preprocessing import LabelEncoder\n",
        "from sklearn.model_selection import train_test_split\n",
        "from imblearn.over_sampling import SMOTE\n",
        "from imblearn.under_sampling import RandomUnderSampler\n",
        "from imblearn.pipeline import Pipeline\n",
        "from sklearn.preprocessing import StandardScaler\n",
        "from sklearn.model_selection import GridSearchCV\n",
        "from sklearn.decomposition import PCA\n",
        "from sklearn.neighbors import KNeighborsClassifier\n",
        "from sklearn.model_selection import RandomizedSearchCV\n",
        "from sklearn.preprocessing  import OneHotEncoder\n",
        "from sklearn import ensemble\n",
        "from collections import Counter\n",
        "from sklearn.metrics import classification_report\n",
        "from sklearn.metrics import confusion_matrix, accuracy_score, roc_auc_score\n",
        "\n",
        "%matplotlib inline\n"
      ]
    },
    {
      "cell_type": "code",
      "source": [
        "from google.colab import drive\n",
        "drive.mount('/content/drive')"
      ],
      "metadata": {
        "colab": {
          "base_uri": "https://localhost:8080/"
        },
        "id": "F19l4g90YQzu",
        "outputId": "e934164b-0771-451a-dd3a-8663f6ea02ad"
      },
      "execution_count": 2,
      "outputs": [
        {
          "output_type": "stream",
          "name": "stdout",
          "text": [
            "Mounted at /content/drive\n"
          ]
        }
      ]
    },
    {
      "cell_type": "code",
      "source": [
        "# Importing dataset and reading\n",
        "file='/content/drive/MyDrive/Colab Notebooks/ALma better/Capstone project/capstone 3/data_cardiovascular_risk.csv'\n",
        "data=pd.read_csv(file,index_col='id')\n",
        "data1=data.copy()"
      ],
      "metadata": {
        "id": "LPxgdNPnYQwQ"
      },
      "execution_count": 3,
      "outputs": []
    },
    {
      "cell_type": "markdown",
      "source": [
        "# Data Inspection"
      ],
      "metadata": {
        "id": "UTfhoUKDa0JW"
      }
    },
    {
      "cell_type": "code",
      "source": [
        "# First look\n",
        "data1.head()"
      ],
      "metadata": {
        "colab": {
          "base_uri": "https://localhost:8080/",
          "height": 301
        },
        "id": "FZPZXqkGYQuB",
        "outputId": "3046ce88-aa67-4ba8-f875-93dc6da8c006"
      },
      "execution_count": 4,
      "outputs": [
        {
          "output_type": "execute_result",
          "data": {
            "text/html": [
              "\n",
              "  <div id=\"df-6b0690a6-41ed-4625-9cfa-6523debea634\">\n",
              "    <div class=\"colab-df-container\">\n",
              "      <div>\n",
              "<style scoped>\n",
              "    .dataframe tbody tr th:only-of-type {\n",
              "        vertical-align: middle;\n",
              "    }\n",
              "\n",
              "    .dataframe tbody tr th {\n",
              "        vertical-align: top;\n",
              "    }\n",
              "\n",
              "    .dataframe thead th {\n",
              "        text-align: right;\n",
              "    }\n",
              "</style>\n",
              "<table border=\"1\" class=\"dataframe\">\n",
              "  <thead>\n",
              "    <tr style=\"text-align: right;\">\n",
              "      <th></th>\n",
              "      <th>age</th>\n",
              "      <th>education</th>\n",
              "      <th>sex</th>\n",
              "      <th>is_smoking</th>\n",
              "      <th>cigsPerDay</th>\n",
              "      <th>BPMeds</th>\n",
              "      <th>prevalentStroke</th>\n",
              "      <th>prevalentHyp</th>\n",
              "      <th>diabetes</th>\n",
              "      <th>totChol</th>\n",
              "      <th>sysBP</th>\n",
              "      <th>diaBP</th>\n",
              "      <th>BMI</th>\n",
              "      <th>heartRate</th>\n",
              "      <th>glucose</th>\n",
              "      <th>TenYearCHD</th>\n",
              "    </tr>\n",
              "    <tr>\n",
              "      <th>id</th>\n",
              "      <th></th>\n",
              "      <th></th>\n",
              "      <th></th>\n",
              "      <th></th>\n",
              "      <th></th>\n",
              "      <th></th>\n",
              "      <th></th>\n",
              "      <th></th>\n",
              "      <th></th>\n",
              "      <th></th>\n",
              "      <th></th>\n",
              "      <th></th>\n",
              "      <th></th>\n",
              "      <th></th>\n",
              "      <th></th>\n",
              "      <th></th>\n",
              "    </tr>\n",
              "  </thead>\n",
              "  <tbody>\n",
              "    <tr>\n",
              "      <th>0</th>\n",
              "      <td>64</td>\n",
              "      <td>2.0</td>\n",
              "      <td>F</td>\n",
              "      <td>YES</td>\n",
              "      <td>3.0</td>\n",
              "      <td>0.0</td>\n",
              "      <td>0</td>\n",
              "      <td>0</td>\n",
              "      <td>0</td>\n",
              "      <td>221.0</td>\n",
              "      <td>148.0</td>\n",
              "      <td>85.0</td>\n",
              "      <td>NaN</td>\n",
              "      <td>90.0</td>\n",
              "      <td>80.0</td>\n",
              "      <td>1</td>\n",
              "    </tr>\n",
              "    <tr>\n",
              "      <th>1</th>\n",
              "      <td>36</td>\n",
              "      <td>4.0</td>\n",
              "      <td>M</td>\n",
              "      <td>NO</td>\n",
              "      <td>0.0</td>\n",
              "      <td>0.0</td>\n",
              "      <td>0</td>\n",
              "      <td>1</td>\n",
              "      <td>0</td>\n",
              "      <td>212.0</td>\n",
              "      <td>168.0</td>\n",
              "      <td>98.0</td>\n",
              "      <td>29.77</td>\n",
              "      <td>72.0</td>\n",
              "      <td>75.0</td>\n",
              "      <td>0</td>\n",
              "    </tr>\n",
              "    <tr>\n",
              "      <th>2</th>\n",
              "      <td>46</td>\n",
              "      <td>1.0</td>\n",
              "      <td>F</td>\n",
              "      <td>YES</td>\n",
              "      <td>10.0</td>\n",
              "      <td>0.0</td>\n",
              "      <td>0</td>\n",
              "      <td>0</td>\n",
              "      <td>0</td>\n",
              "      <td>250.0</td>\n",
              "      <td>116.0</td>\n",
              "      <td>71.0</td>\n",
              "      <td>20.35</td>\n",
              "      <td>88.0</td>\n",
              "      <td>94.0</td>\n",
              "      <td>0</td>\n",
              "    </tr>\n",
              "    <tr>\n",
              "      <th>3</th>\n",
              "      <td>50</td>\n",
              "      <td>1.0</td>\n",
              "      <td>M</td>\n",
              "      <td>YES</td>\n",
              "      <td>20.0</td>\n",
              "      <td>0.0</td>\n",
              "      <td>0</td>\n",
              "      <td>1</td>\n",
              "      <td>0</td>\n",
              "      <td>233.0</td>\n",
              "      <td>158.0</td>\n",
              "      <td>88.0</td>\n",
              "      <td>28.26</td>\n",
              "      <td>68.0</td>\n",
              "      <td>94.0</td>\n",
              "      <td>1</td>\n",
              "    </tr>\n",
              "    <tr>\n",
              "      <th>4</th>\n",
              "      <td>64</td>\n",
              "      <td>1.0</td>\n",
              "      <td>F</td>\n",
              "      <td>YES</td>\n",
              "      <td>30.0</td>\n",
              "      <td>0.0</td>\n",
              "      <td>0</td>\n",
              "      <td>0</td>\n",
              "      <td>0</td>\n",
              "      <td>241.0</td>\n",
              "      <td>136.5</td>\n",
              "      <td>85.0</td>\n",
              "      <td>26.42</td>\n",
              "      <td>70.0</td>\n",
              "      <td>77.0</td>\n",
              "      <td>0</td>\n",
              "    </tr>\n",
              "  </tbody>\n",
              "</table>\n",
              "</div>\n",
              "      <button class=\"colab-df-convert\" onclick=\"convertToInteractive('df-6b0690a6-41ed-4625-9cfa-6523debea634')\"\n",
              "              title=\"Convert this dataframe to an interactive table.\"\n",
              "              style=\"display:none;\">\n",
              "        \n",
              "  <svg xmlns=\"http://www.w3.org/2000/svg\" height=\"24px\"viewBox=\"0 0 24 24\"\n",
              "       width=\"24px\">\n",
              "    <path d=\"M0 0h24v24H0V0z\" fill=\"none\"/>\n",
              "    <path d=\"M18.56 5.44l.94 2.06.94-2.06 2.06-.94-2.06-.94-.94-2.06-.94 2.06-2.06.94zm-11 1L8.5 8.5l.94-2.06 2.06-.94-2.06-.94L8.5 2.5l-.94 2.06-2.06.94zm10 10l.94 2.06.94-2.06 2.06-.94-2.06-.94-.94-2.06-.94 2.06-2.06.94z\"/><path d=\"M17.41 7.96l-1.37-1.37c-.4-.4-.92-.59-1.43-.59-.52 0-1.04.2-1.43.59L10.3 9.45l-7.72 7.72c-.78.78-.78 2.05 0 2.83L4 21.41c.39.39.9.59 1.41.59.51 0 1.02-.2 1.41-.59l7.78-7.78 2.81-2.81c.8-.78.8-2.07 0-2.86zM5.41 20L4 18.59l7.72-7.72 1.47 1.35L5.41 20z\"/>\n",
              "  </svg>\n",
              "      </button>\n",
              "      \n",
              "  <style>\n",
              "    .colab-df-container {\n",
              "      display:flex;\n",
              "      flex-wrap:wrap;\n",
              "      gap: 12px;\n",
              "    }\n",
              "\n",
              "    .colab-df-convert {\n",
              "      background-color: #E8F0FE;\n",
              "      border: none;\n",
              "      border-radius: 50%;\n",
              "      cursor: pointer;\n",
              "      display: none;\n",
              "      fill: #1967D2;\n",
              "      height: 32px;\n",
              "      padding: 0 0 0 0;\n",
              "      width: 32px;\n",
              "    }\n",
              "\n",
              "    .colab-df-convert:hover {\n",
              "      background-color: #E2EBFA;\n",
              "      box-shadow: 0px 1px 2px rgba(60, 64, 67, 0.3), 0px 1px 3px 1px rgba(60, 64, 67, 0.15);\n",
              "      fill: #174EA6;\n",
              "    }\n",
              "\n",
              "    [theme=dark] .colab-df-convert {\n",
              "      background-color: #3B4455;\n",
              "      fill: #D2E3FC;\n",
              "    }\n",
              "\n",
              "    [theme=dark] .colab-df-convert:hover {\n",
              "      background-color: #434B5C;\n",
              "      box-shadow: 0px 1px 3px 1px rgba(0, 0, 0, 0.15);\n",
              "      filter: drop-shadow(0px 1px 2px rgba(0, 0, 0, 0.3));\n",
              "      fill: #FFFFFF;\n",
              "    }\n",
              "  </style>\n",
              "\n",
              "      <script>\n",
              "        const buttonEl =\n",
              "          document.querySelector('#df-6b0690a6-41ed-4625-9cfa-6523debea634 button.colab-df-convert');\n",
              "        buttonEl.style.display =\n",
              "          google.colab.kernel.accessAllowed ? 'block' : 'none';\n",
              "\n",
              "        async function convertToInteractive(key) {\n",
              "          const element = document.querySelector('#df-6b0690a6-41ed-4625-9cfa-6523debea634');\n",
              "          const dataTable =\n",
              "            await google.colab.kernel.invokeFunction('convertToInteractive',\n",
              "                                                     [key], {});\n",
              "          if (!dataTable) return;\n",
              "\n",
              "          const docLinkHtml = 'Like what you see? Visit the ' +\n",
              "            '<a target=\"_blank\" href=https://colab.research.google.com/notebooks/data_table.ipynb>data table notebook</a>'\n",
              "            + ' to learn more about interactive tables.';\n",
              "          element.innerHTML = '';\n",
              "          dataTable['output_type'] = 'display_data';\n",
              "          await google.colab.output.renderOutput(dataTable, element);\n",
              "          const docLink = document.createElement('div');\n",
              "          docLink.innerHTML = docLinkHtml;\n",
              "          element.appendChild(docLink);\n",
              "        }\n",
              "      </script>\n",
              "    </div>\n",
              "  </div>\n",
              "  "
            ],
            "text/plain": [
              "    age  education sex is_smoking  ...    BMI  heartRate  glucose  TenYearCHD\n",
              "id                                 ...                                       \n",
              "0    64        2.0   F        YES  ...    NaN       90.0     80.0           1\n",
              "1    36        4.0   M         NO  ...  29.77       72.0     75.0           0\n",
              "2    46        1.0   F        YES  ...  20.35       88.0     94.0           0\n",
              "3    50        1.0   M        YES  ...  28.26       68.0     94.0           1\n",
              "4    64        1.0   F        YES  ...  26.42       70.0     77.0           0\n",
              "\n",
              "[5 rows x 16 columns]"
            ]
          },
          "metadata": {},
          "execution_count": 4
        }
      ]
    },
    {
      "cell_type": "code",
      "source": [
        "# looking into shape of the dataset\n",
        "data1.shape"
      ],
      "metadata": {
        "colab": {
          "base_uri": "https://localhost:8080/"
        },
        "id": "M1rB11x2YQrR",
        "outputId": "397e7d12-e9f5-4ec3-b2cd-1d86ca585339"
      },
      "execution_count": 5,
      "outputs": [
        {
          "output_type": "execute_result",
          "data": {
            "text/plain": [
              "(3390, 16)"
            ]
          },
          "metadata": {},
          "execution_count": 5
        }
      ]
    },
    {
      "cell_type": "code",
      "source": [
        "# looking into information of the dataset\n",
        "data1.info()"
      ],
      "metadata": {
        "colab": {
          "base_uri": "https://localhost:8080/"
        },
        "id": "TgDn-bzQYQoh",
        "outputId": "8ee45858-76fd-47f2-c3eb-9998a0438f22"
      },
      "execution_count": 6,
      "outputs": [
        {
          "output_type": "stream",
          "name": "stdout",
          "text": [
            "<class 'pandas.core.frame.DataFrame'>\n",
            "Int64Index: 3390 entries, 0 to 3389\n",
            "Data columns (total 16 columns):\n",
            " #   Column           Non-Null Count  Dtype  \n",
            "---  ------           --------------  -----  \n",
            " 0   age              3390 non-null   int64  \n",
            " 1   education        3303 non-null   float64\n",
            " 2   sex              3390 non-null   object \n",
            " 3   is_smoking       3390 non-null   object \n",
            " 4   cigsPerDay       3368 non-null   float64\n",
            " 5   BPMeds           3346 non-null   float64\n",
            " 6   prevalentStroke  3390 non-null   int64  \n",
            " 7   prevalentHyp     3390 non-null   int64  \n",
            " 8   diabetes         3390 non-null   int64  \n",
            " 9   totChol          3352 non-null   float64\n",
            " 10  sysBP            3390 non-null   float64\n",
            " 11  diaBP            3390 non-null   float64\n",
            " 12  BMI              3376 non-null   float64\n",
            " 13  heartRate        3389 non-null   float64\n",
            " 14  glucose          3086 non-null   float64\n",
            " 15  TenYearCHD       3390 non-null   int64  \n",
            "dtypes: float64(9), int64(5), object(2)\n",
            "memory usage: 450.2+ KB\n"
          ]
        }
      ]
    },
    {
      "cell_type": "code",
      "source": [
        "# looking in descriptive summary of dataset\n",
        "data1.describe(include='all')"
      ],
      "metadata": {
        "colab": {
          "base_uri": "https://localhost:8080/",
          "height": 458
        },
        "id": "SIALNunXYQmB",
        "outputId": "b3f460d8-3ecd-4db9-bd3d-e622f093cc73"
      },
      "execution_count": 7,
      "outputs": [
        {
          "output_type": "execute_result",
          "data": {
            "text/html": [
              "\n",
              "  <div id=\"df-cf2c88c3-3d50-4908-ae68-6fce76d36d99\">\n",
              "    <div class=\"colab-df-container\">\n",
              "      <div>\n",
              "<style scoped>\n",
              "    .dataframe tbody tr th:only-of-type {\n",
              "        vertical-align: middle;\n",
              "    }\n",
              "\n",
              "    .dataframe tbody tr th {\n",
              "        vertical-align: top;\n",
              "    }\n",
              "\n",
              "    .dataframe thead th {\n",
              "        text-align: right;\n",
              "    }\n",
              "</style>\n",
              "<table border=\"1\" class=\"dataframe\">\n",
              "  <thead>\n",
              "    <tr style=\"text-align: right;\">\n",
              "      <th></th>\n",
              "      <th>age</th>\n",
              "      <th>education</th>\n",
              "      <th>sex</th>\n",
              "      <th>is_smoking</th>\n",
              "      <th>cigsPerDay</th>\n",
              "      <th>BPMeds</th>\n",
              "      <th>prevalentStroke</th>\n",
              "      <th>prevalentHyp</th>\n",
              "      <th>diabetes</th>\n",
              "      <th>totChol</th>\n",
              "      <th>sysBP</th>\n",
              "      <th>diaBP</th>\n",
              "      <th>BMI</th>\n",
              "      <th>heartRate</th>\n",
              "      <th>glucose</th>\n",
              "      <th>TenYearCHD</th>\n",
              "    </tr>\n",
              "  </thead>\n",
              "  <tbody>\n",
              "    <tr>\n",
              "      <th>count</th>\n",
              "      <td>3390.000000</td>\n",
              "      <td>3303.000000</td>\n",
              "      <td>3390</td>\n",
              "      <td>3390</td>\n",
              "      <td>3368.000000</td>\n",
              "      <td>3346.000000</td>\n",
              "      <td>3390.000000</td>\n",
              "      <td>3390.000000</td>\n",
              "      <td>3390.000000</td>\n",
              "      <td>3352.000000</td>\n",
              "      <td>3390.00000</td>\n",
              "      <td>3390.000000</td>\n",
              "      <td>3376.000000</td>\n",
              "      <td>3389.000000</td>\n",
              "      <td>3086.000000</td>\n",
              "      <td>3390.000000</td>\n",
              "    </tr>\n",
              "    <tr>\n",
              "      <th>unique</th>\n",
              "      <td>NaN</td>\n",
              "      <td>NaN</td>\n",
              "      <td>2</td>\n",
              "      <td>2</td>\n",
              "      <td>NaN</td>\n",
              "      <td>NaN</td>\n",
              "      <td>NaN</td>\n",
              "      <td>NaN</td>\n",
              "      <td>NaN</td>\n",
              "      <td>NaN</td>\n",
              "      <td>NaN</td>\n",
              "      <td>NaN</td>\n",
              "      <td>NaN</td>\n",
              "      <td>NaN</td>\n",
              "      <td>NaN</td>\n",
              "      <td>NaN</td>\n",
              "    </tr>\n",
              "    <tr>\n",
              "      <th>top</th>\n",
              "      <td>NaN</td>\n",
              "      <td>NaN</td>\n",
              "      <td>F</td>\n",
              "      <td>NO</td>\n",
              "      <td>NaN</td>\n",
              "      <td>NaN</td>\n",
              "      <td>NaN</td>\n",
              "      <td>NaN</td>\n",
              "      <td>NaN</td>\n",
              "      <td>NaN</td>\n",
              "      <td>NaN</td>\n",
              "      <td>NaN</td>\n",
              "      <td>NaN</td>\n",
              "      <td>NaN</td>\n",
              "      <td>NaN</td>\n",
              "      <td>NaN</td>\n",
              "    </tr>\n",
              "    <tr>\n",
              "      <th>freq</th>\n",
              "      <td>NaN</td>\n",
              "      <td>NaN</td>\n",
              "      <td>1923</td>\n",
              "      <td>1703</td>\n",
              "      <td>NaN</td>\n",
              "      <td>NaN</td>\n",
              "      <td>NaN</td>\n",
              "      <td>NaN</td>\n",
              "      <td>NaN</td>\n",
              "      <td>NaN</td>\n",
              "      <td>NaN</td>\n",
              "      <td>NaN</td>\n",
              "      <td>NaN</td>\n",
              "      <td>NaN</td>\n",
              "      <td>NaN</td>\n",
              "      <td>NaN</td>\n",
              "    </tr>\n",
              "    <tr>\n",
              "      <th>mean</th>\n",
              "      <td>49.542183</td>\n",
              "      <td>1.970936</td>\n",
              "      <td>NaN</td>\n",
              "      <td>NaN</td>\n",
              "      <td>9.069477</td>\n",
              "      <td>0.029886</td>\n",
              "      <td>0.006490</td>\n",
              "      <td>0.315339</td>\n",
              "      <td>0.025664</td>\n",
              "      <td>237.074284</td>\n",
              "      <td>132.60118</td>\n",
              "      <td>82.883038</td>\n",
              "      <td>25.794964</td>\n",
              "      <td>75.977279</td>\n",
              "      <td>82.086520</td>\n",
              "      <td>0.150737</td>\n",
              "    </tr>\n",
              "    <tr>\n",
              "      <th>std</th>\n",
              "      <td>8.592878</td>\n",
              "      <td>1.019081</td>\n",
              "      <td>NaN</td>\n",
              "      <td>NaN</td>\n",
              "      <td>11.879078</td>\n",
              "      <td>0.170299</td>\n",
              "      <td>0.080309</td>\n",
              "      <td>0.464719</td>\n",
              "      <td>0.158153</td>\n",
              "      <td>45.247430</td>\n",
              "      <td>22.29203</td>\n",
              "      <td>12.023581</td>\n",
              "      <td>4.115449</td>\n",
              "      <td>11.971868</td>\n",
              "      <td>24.244753</td>\n",
              "      <td>0.357846</td>\n",
              "    </tr>\n",
              "    <tr>\n",
              "      <th>min</th>\n",
              "      <td>32.000000</td>\n",
              "      <td>1.000000</td>\n",
              "      <td>NaN</td>\n",
              "      <td>NaN</td>\n",
              "      <td>0.000000</td>\n",
              "      <td>0.000000</td>\n",
              "      <td>0.000000</td>\n",
              "      <td>0.000000</td>\n",
              "      <td>0.000000</td>\n",
              "      <td>107.000000</td>\n",
              "      <td>83.50000</td>\n",
              "      <td>48.000000</td>\n",
              "      <td>15.960000</td>\n",
              "      <td>45.000000</td>\n",
              "      <td>40.000000</td>\n",
              "      <td>0.000000</td>\n",
              "    </tr>\n",
              "    <tr>\n",
              "      <th>25%</th>\n",
              "      <td>42.000000</td>\n",
              "      <td>1.000000</td>\n",
              "      <td>NaN</td>\n",
              "      <td>NaN</td>\n",
              "      <td>0.000000</td>\n",
              "      <td>0.000000</td>\n",
              "      <td>0.000000</td>\n",
              "      <td>0.000000</td>\n",
              "      <td>0.000000</td>\n",
              "      <td>206.000000</td>\n",
              "      <td>117.00000</td>\n",
              "      <td>74.500000</td>\n",
              "      <td>23.020000</td>\n",
              "      <td>68.000000</td>\n",
              "      <td>71.000000</td>\n",
              "      <td>0.000000</td>\n",
              "    </tr>\n",
              "    <tr>\n",
              "      <th>50%</th>\n",
              "      <td>49.000000</td>\n",
              "      <td>2.000000</td>\n",
              "      <td>NaN</td>\n",
              "      <td>NaN</td>\n",
              "      <td>0.000000</td>\n",
              "      <td>0.000000</td>\n",
              "      <td>0.000000</td>\n",
              "      <td>0.000000</td>\n",
              "      <td>0.000000</td>\n",
              "      <td>234.000000</td>\n",
              "      <td>128.50000</td>\n",
              "      <td>82.000000</td>\n",
              "      <td>25.380000</td>\n",
              "      <td>75.000000</td>\n",
              "      <td>78.000000</td>\n",
              "      <td>0.000000</td>\n",
              "    </tr>\n",
              "    <tr>\n",
              "      <th>75%</th>\n",
              "      <td>56.000000</td>\n",
              "      <td>3.000000</td>\n",
              "      <td>NaN</td>\n",
              "      <td>NaN</td>\n",
              "      <td>20.000000</td>\n",
              "      <td>0.000000</td>\n",
              "      <td>0.000000</td>\n",
              "      <td>1.000000</td>\n",
              "      <td>0.000000</td>\n",
              "      <td>264.000000</td>\n",
              "      <td>144.00000</td>\n",
              "      <td>90.000000</td>\n",
              "      <td>28.040000</td>\n",
              "      <td>83.000000</td>\n",
              "      <td>87.000000</td>\n",
              "      <td>0.000000</td>\n",
              "    </tr>\n",
              "    <tr>\n",
              "      <th>max</th>\n",
              "      <td>70.000000</td>\n",
              "      <td>4.000000</td>\n",
              "      <td>NaN</td>\n",
              "      <td>NaN</td>\n",
              "      <td>70.000000</td>\n",
              "      <td>1.000000</td>\n",
              "      <td>1.000000</td>\n",
              "      <td>1.000000</td>\n",
              "      <td>1.000000</td>\n",
              "      <td>696.000000</td>\n",
              "      <td>295.00000</td>\n",
              "      <td>142.500000</td>\n",
              "      <td>56.800000</td>\n",
              "      <td>143.000000</td>\n",
              "      <td>394.000000</td>\n",
              "      <td>1.000000</td>\n",
              "    </tr>\n",
              "  </tbody>\n",
              "</table>\n",
              "</div>\n",
              "      <button class=\"colab-df-convert\" onclick=\"convertToInteractive('df-cf2c88c3-3d50-4908-ae68-6fce76d36d99')\"\n",
              "              title=\"Convert this dataframe to an interactive table.\"\n",
              "              style=\"display:none;\">\n",
              "        \n",
              "  <svg xmlns=\"http://www.w3.org/2000/svg\" height=\"24px\"viewBox=\"0 0 24 24\"\n",
              "       width=\"24px\">\n",
              "    <path d=\"M0 0h24v24H0V0z\" fill=\"none\"/>\n",
              "    <path d=\"M18.56 5.44l.94 2.06.94-2.06 2.06-.94-2.06-.94-.94-2.06-.94 2.06-2.06.94zm-11 1L8.5 8.5l.94-2.06 2.06-.94-2.06-.94L8.5 2.5l-.94 2.06-2.06.94zm10 10l.94 2.06.94-2.06 2.06-.94-2.06-.94-.94-2.06-.94 2.06-2.06.94z\"/><path d=\"M17.41 7.96l-1.37-1.37c-.4-.4-.92-.59-1.43-.59-.52 0-1.04.2-1.43.59L10.3 9.45l-7.72 7.72c-.78.78-.78 2.05 0 2.83L4 21.41c.39.39.9.59 1.41.59.51 0 1.02-.2 1.41-.59l7.78-7.78 2.81-2.81c.8-.78.8-2.07 0-2.86zM5.41 20L4 18.59l7.72-7.72 1.47 1.35L5.41 20z\"/>\n",
              "  </svg>\n",
              "      </button>\n",
              "      \n",
              "  <style>\n",
              "    .colab-df-container {\n",
              "      display:flex;\n",
              "      flex-wrap:wrap;\n",
              "      gap: 12px;\n",
              "    }\n",
              "\n",
              "    .colab-df-convert {\n",
              "      background-color: #E8F0FE;\n",
              "      border: none;\n",
              "      border-radius: 50%;\n",
              "      cursor: pointer;\n",
              "      display: none;\n",
              "      fill: #1967D2;\n",
              "      height: 32px;\n",
              "      padding: 0 0 0 0;\n",
              "      width: 32px;\n",
              "    }\n",
              "\n",
              "    .colab-df-convert:hover {\n",
              "      background-color: #E2EBFA;\n",
              "      box-shadow: 0px 1px 2px rgba(60, 64, 67, 0.3), 0px 1px 3px 1px rgba(60, 64, 67, 0.15);\n",
              "      fill: #174EA6;\n",
              "    }\n",
              "\n",
              "    [theme=dark] .colab-df-convert {\n",
              "      background-color: #3B4455;\n",
              "      fill: #D2E3FC;\n",
              "    }\n",
              "\n",
              "    [theme=dark] .colab-df-convert:hover {\n",
              "      background-color: #434B5C;\n",
              "      box-shadow: 0px 1px 3px 1px rgba(0, 0, 0, 0.15);\n",
              "      filter: drop-shadow(0px 1px 2px rgba(0, 0, 0, 0.3));\n",
              "      fill: #FFFFFF;\n",
              "    }\n",
              "  </style>\n",
              "\n",
              "      <script>\n",
              "        const buttonEl =\n",
              "          document.querySelector('#df-cf2c88c3-3d50-4908-ae68-6fce76d36d99 button.colab-df-convert');\n",
              "        buttonEl.style.display =\n",
              "          google.colab.kernel.accessAllowed ? 'block' : 'none';\n",
              "\n",
              "        async function convertToInteractive(key) {\n",
              "          const element = document.querySelector('#df-cf2c88c3-3d50-4908-ae68-6fce76d36d99');\n",
              "          const dataTable =\n",
              "            await google.colab.kernel.invokeFunction('convertToInteractive',\n",
              "                                                     [key], {});\n",
              "          if (!dataTable) return;\n",
              "\n",
              "          const docLinkHtml = 'Like what you see? Visit the ' +\n",
              "            '<a target=\"_blank\" href=https://colab.research.google.com/notebooks/data_table.ipynb>data table notebook</a>'\n",
              "            + ' to learn more about interactive tables.';\n",
              "          element.innerHTML = '';\n",
              "          dataTable['output_type'] = 'display_data';\n",
              "          await google.colab.output.renderOutput(dataTable, element);\n",
              "          const docLink = document.createElement('div');\n",
              "          docLink.innerHTML = docLinkHtml;\n",
              "          element.appendChild(docLink);\n",
              "        }\n",
              "      </script>\n",
              "    </div>\n",
              "  </div>\n",
              "  "
            ],
            "text/plain": [
              "                age    education   sex  ...    heartRate      glucose   TenYearCHD\n",
              "count   3390.000000  3303.000000  3390  ...  3389.000000  3086.000000  3390.000000\n",
              "unique          NaN          NaN     2  ...          NaN          NaN          NaN\n",
              "top             NaN          NaN     F  ...          NaN          NaN          NaN\n",
              "freq            NaN          NaN  1923  ...          NaN          NaN          NaN\n",
              "mean      49.542183     1.970936   NaN  ...    75.977279    82.086520     0.150737\n",
              "std        8.592878     1.019081   NaN  ...    11.971868    24.244753     0.357846\n",
              "min       32.000000     1.000000   NaN  ...    45.000000    40.000000     0.000000\n",
              "25%       42.000000     1.000000   NaN  ...    68.000000    71.000000     0.000000\n",
              "50%       49.000000     2.000000   NaN  ...    75.000000    78.000000     0.000000\n",
              "75%       56.000000     3.000000   NaN  ...    83.000000    87.000000     0.000000\n",
              "max       70.000000     4.000000   NaN  ...   143.000000   394.000000     1.000000\n",
              "\n",
              "[11 rows x 16 columns]"
            ]
          },
          "metadata": {},
          "execution_count": 7
        }
      ]
    },
    {
      "cell_type": "code",
      "source": [
        "# Descriptive stats in visual form\n",
        "\n",
        "plt.figure(figsize=(25,10))\n",
        "svm=sns.heatmap(data1.describe()[1:], annot=True, cmap='gist_earth',annot_kws={'size':18})\n",
        "svm.set_xticklabels(svm.get_xmajorticklabels(),fontsize=18)\n",
        "svm.set_yticklabels(svm.get_ymajorticklabels(),fontsize=18)\n"
      ],
      "metadata": {
        "id": "Be1PR6XdYQjj",
        "colab": {
          "base_uri": "https://localhost:8080/",
          "height": 471
        },
        "outputId": "11bea30d-018e-4cd8-f2c7-9fb7437032d4"
      },
      "execution_count": 8,
      "outputs": [
        {
          "output_type": "execute_result",
          "data": {
            "text/plain": [
              "[Text(0, 0.5, 'mean'),\n",
              " Text(0, 1.5, 'std'),\n",
              " Text(0, 2.5, 'min'),\n",
              " Text(0, 3.5, '25%'),\n",
              " Text(0, 4.5, '50%'),\n",
              " Text(0, 5.5, '75%'),\n",
              " Text(0, 6.5, 'max')]"
            ]
          },
          "metadata": {},
          "execution_count": 8
        },
        {
          "output_type": "display_data",
          "data": {
            "image/png": "[encoded data removed]",
            "text/plain": [
              "<Figure size 1800x720 with 2 Axes>"
            ]
          },
          "metadata": {
            "needs_background": "light"
          }
        }
      ]
    },
    {
      "cell_type": "markdown",
      "source": [
        "# Handiling missing values"
      ],
      "metadata": {
        "id": "gH9VkfXSRyuo"
      }
    },
    {
      "cell_type": "code",
      "source": [
        "# looking for missing values in dataset\n",
        "sns.set_style('whitegrid')\n",
        "fig,axes=plt.subplots(1,1,figsize=(15,5))\n",
        "sns.heatmap(data1.isna(),yticklabels=False,cbar=False,cmap='viridis')\n",
        "plt.show()"
      ],
      "metadata": {
        "id": "vS3G_iljYQhH",
        "colab": {
          "base_uri": "https://localhost:8080/",
          "height": 331
        },
        "outputId": "aa7ccd2c-5398-49e3-b456-f9cc24eded0d"
      },
      "execution_count": 9,
      "outputs": [
        {
          "output_type": "display_data",
          "data": {
            "image/png": "[encoded data removed]",
            "text/plain": [
              "<Figure size 1080x360 with 1 Axes>"
            ]
          },
          "metadata": {}
        }
      ]
    },
    {
      "cell_type": "code",
      "source": [
        "# Missing Value Count Function\n",
        "def show_missing():\n",
        "    missing = data.columns[data.isnull().any()].tolist()\n",
        "    return missing\n",
        "\n",
        "# Missing data counts and percentage\n",
        "print('Missing Data Count')\n",
        "print(data[show_missing()].isnull().sum().sort_values(ascending = False))\n",
        "print('--'*50)\n",
        "print('Missing Data Percentage')\n",
        "print(round(data[show_missing()].isnull().sum().sort_values(ascending = False)/len(data)*100,2))\n"
      ],
      "metadata": {
        "id": "JKMb5EJHYQes",
        "colab": {
          "base_uri": "https://localhost:8080/"
        },
        "outputId": "7d39d68f-e495-440d-872d-d3d4454eb6c0"
      },
      "execution_count": 11,
      "outputs": [
        {
          "output_type": "stream",
          "name": "stdout",
          "text": [
            "Missing Data Count\n",
            "glucose       304\n",
            "education      87\n",
            "BPMeds         44\n",
            "totChol        38\n",
            "cigsPerDay     22\n",
            "BMI            14\n",
            "heartRate       1\n",
            "dtype: int64\n",
            "----------------------------------------------------------------------------------------------------\n",
            "Missing Data Percentage\n",
            "glucose       8.97\n",
            "education     2.57\n",
            "BPMeds        1.30\n",
            "totChol       1.12\n",
            "cigsPerDay    0.65\n",
            "BMI           0.41\n",
            "heartRate     0.03\n",
            "dtype: float64\n"
          ]
        }
      ]
    },
    {
      "cell_type": "code",
      "source": [
        "# from above we can see that not so many values are missing so we can just drop them\n",
        "data1.dropna(inplace=True)"
      ],
      "metadata": {
        "id": "dCcf3gY_YQcF"
      },
      "execution_count": 12,
      "outputs": []
    },
    {
      "cell_type": "markdown",
      "source": [
        "# Outlier Detection"
      ],
      "metadata": {
        "id": "2XSwM5cLS4rm"
      }
    },
    {
      "cell_type": "code",
      "source": [
        "columns=data1.describe()\n",
        "n=1\n",
        "plt.figure(figsize=(20,15))\n",
        "for column in columns:\n",
        "  plt.subplot(4,4,n)\n",
        "  n=n+1\n",
        "  sns.boxplot(data[column])\n",
        "  plt.tight_layout()"
      ],
      "metadata": {
        "id": "qGKyaeJ-YQZW",
        "colab": {
          "base_uri": "https://localhost:8080/",
          "height": 563
        },
        "outputId": "8363c599-92b2-4306-dfd8-90586fc91d20"
      },
      "execution_count": 14,
      "outputs": [
        {
          "output_type": "display_data",
          "data": {
            "image/png": "[encoded data removed]",
            "text/plain": [
              "<Figure size 1440x1080 with 14 Axes>"
            ]
          },
          "metadata": {}
        }
      ]
    },
    {
      "cell_type": "code",
      "source": [
        ""
      ],
      "metadata": {
        "id": "kOoIuhVkYQW5"
      },
      "execution_count": 7,
      "outputs": []
    },
    {
      "cell_type": "code",
      "source": [
        ""
      ],
      "metadata": {
        "id": "eTev23D7YQUn"
      },
      "execution_count": 7,
      "outputs": []
    },
    {
      "cell_type": "code",
      "source": [
        ""
      ],
      "metadata": {
        "id": "TWW2IP-rYQR5"
      },
      "execution_count": 7,
      "outputs": []
    },
    {
      "cell_type": "code",
      "source": [
        ""
      ],
      "metadata": {
        "id": "DLvgcLDrYQPO"
      },
      "execution_count": 7,
      "outputs": []
    },
    {
      "cell_type": "code",
      "source": [
        ""
      ],
      "metadata": {
        "id": "wtY4sFKaYQNV"
      },
      "execution_count": 7,
      "outputs": []
    },
    {
      "cell_type": "code",
      "source": [
        ""
      ],
      "metadata": {
        "id": "vRWdQIUgYQKc"
      },
      "execution_count": 7,
      "outputs": []
    },
    {
      "cell_type": "code",
      "source": [
        ""
      ],
      "metadata": {
        "id": "qSUoRdb0YQH0"
      },
      "execution_count": 7,
      "outputs": []
    },
    {
      "cell_type": "code",
      "source": [
        ""
      ],
      "metadata": {
        "id": "VR8LF74-YQFS"
      },
      "execution_count": 7,
      "outputs": []
    },
    {
      "cell_type": "code",
      "source": [
        ""
      ],
      "metadata": {
        "id": "Jh6kVIrvYQCq"
      },
      "execution_count": 7,
      "outputs": []
    },
    {
      "cell_type": "code",
      "source": [
        ""
      ],
      "metadata": {
        "id": "QG5cZ_TOYQAF"
      },
      "execution_count": 7,
      "outputs": []
    },
    {
      "cell_type": "code",
      "source": [
        ""
      ],
      "metadata": {
        "id": "-F7SEXfWYP9l"
      },
      "execution_count": 7,
      "outputs": []
    },
    {
      "cell_type": "code",
      "source": [
        ""
      ],
      "metadata": {
        "id": "TdjZ7sFmYP7o"
      },
      "execution_count": 7,
      "outputs": []
    },
    {
      "cell_type": "code",
      "source": [
        ""
      ],
      "metadata": {
        "id": "Zffh2pRJYP4d"
      },
      "execution_count": 7,
      "outputs": []
    },
    {
      "cell_type": "code",
      "source": [
        ""
      ],
      "metadata": {
        "id": "kRrGYOS-YP2W"
      },
      "execution_count": 7,
      "outputs": []
    },
    {
      "cell_type": "code",
      "source": [
        ""
      ],
      "metadata": {
        "id": "CNCzSOYWYPzf"
      },
      "execution_count": 7,
      "outputs": []
    },
    {
      "cell_type": "code",
      "source": [
        ""
      ],
      "metadata": {
        "id": "HdgnJ1c5YPxE"
      },
      "execution_count": 7,
      "outputs": []
    },
    {
      "cell_type": "code",
      "source": [
        ""
      ],
      "metadata": {
        "id": "UCksR0VwYPuW"
      },
      "execution_count": 7,
      "outputs": []
    },
    {
      "cell_type": "code",
      "source": [
        ""
      ],
      "metadata": {
        "id": "KT9Cukl4YPr3"
      },
      "execution_count": 7,
      "outputs": []
    },
    {
      "cell_type": "code",
      "source": [
        ""
      ],
      "metadata": {
        "id": "SJBxkbVVYPpa"
      },
      "execution_count": 7,
      "outputs": []
    },
    {
      "cell_type": "code",
      "source": [
        ""
      ],
      "metadata": {
        "id": "3yuSVhU5YPm9"
      },
      "execution_count": 7,
      "outputs": []
    },
    {
      "cell_type": "code",
      "source": [
        ""
      ],
      "metadata": {
        "id": "JHotbme9YPke"
      },
      "execution_count": 7,
      "outputs": []
    },
    {
      "cell_type": "code",
      "source": [
        ""
      ],
      "metadata": {
        "id": "zn5O-JRgYPiC"
      },
      "execution_count": 7,
      "outputs": []
    },
    {
      "cell_type": "code",
      "source": [
        ""
      ],
      "metadata": {
        "id": "LU41aj20YPgU"
      },
      "execution_count": 7,
      "outputs": []
    }
  ]
}